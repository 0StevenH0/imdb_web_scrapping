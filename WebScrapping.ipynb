{
 "cells": [
  {
   "cell_type": "markdown",
   "id": "8c008305",
   "metadata": {},
   "source": [
    "web scrapping top n popular movie titles including casts, directors, actors, and image from imdb\n"
   ]
  },
  {
   "cell_type": "code",
   "execution_count": null,
   "id": "cf22f477",
   "metadata": {},
   "outputs": [],
   "source": [
    "from selenium import webdriver\n",
    "from selenium.webdriver.common.keys import Keys\n",
    "from selenium.webdriver.common.by import By\n",
    "import pandas as pd"
   ]
  },
  {
   "cell_type": "code",
   "execution_count": null,
   "id": "5dc7468c",
   "metadata": {},
   "outputs": [],
   "source": [
    "\"\"\"change this to decide top n popular movie titles in imdb\n",
    "please note this script may detect duplicate data and output may be less than expected\n",
    "please note that output from the day you run the script and another day may different\n",
    "because imdb1s algorithm keep changing their popular movie list\"\"\"\n",
    "count:int=10"
   ]
  },
  {
   "cell_type": "code",
   "execution_count": null,
   "id": "3f6ba296",
   "metadata": {},
   "outputs": [],
   "source": [
    "driver = webdriver.Firefox()\n",
    "driver.get(\"https://www.imdb.com/chart/moviemeter/?ref_=nv_mv_mpm\")\n",
    "elem = driver.find_element(By.CLASS_NAME, \"lister-list\")\n",
    "x=elem.get_attribute('innerHTML')\n",
    "driver.close()"
   ]
  },
  {
   "cell_type": "markdown",
   "id": "fa0f4b34",
   "metadata": {},
   "source": [
    "imdb - listerlistclass html tag"
   ]
  },
  {
   "cell_type": "code",
   "execution_count": null,
   "id": "7187d608",
   "metadata": {},
   "outputs": [],
   "source": [
    "print(x)"
   ]
  },
  {
   "cell_type": "markdown",
   "id": "8cbe00fe",
   "metadata": {},
   "source": [
    "finding all image covers for top 100 movies"
   ]
  },
  {
   "cell_type": "code",
   "execution_count": null,
   "id": "def24d22",
   "metadata": {},
   "outputs": [],
   "source": [
    "import regex as re"
   ]
  },
  {
   "cell_type": "code",
   "execution_count": null,
   "id": "b02a76b5",
   "metadata": {},
   "outputs": [],
   "source": [
    "img=re.findall(\"(?<=img src=\\\").*?(?=.jpg\\\")\",x)\n",
    "print(img)"
   ]
  },
  {
   "cell_type": "markdown",
   "id": "03242d02",
   "metadata": {},
   "source": [
    "finding link to go into better movie details"
   ]
  },
  {
   "cell_type": "code",
   "execution_count": null,
   "id": "552196ea",
   "metadata": {},
   "outputs": [],
   "source": [
    "ahref=re.findall(\"(?<=a href=\\\").*?(?=/?pf)\",x)\n",
    "ahref=[i[:-2] for i in ahref]\n",
    "print(ahref)"
   ]
  },
  {
   "cell_type": "markdown",
   "id": "ab4b151c",
   "metadata": {},
   "source": [
    "finding directors, writers, and casts name"
   ]
  },
  {
   "cell_type": "code",
   "execution_count": null,
   "id": "c270ccbe",
   "metadata": {},
   "outputs": [],
   "source": [
    "list_of_names=[]\n",
    "titles=[]\n"
   ]
  },
  {
   "cell_type": "code",
   "execution_count": null,
   "id": "5410c9e2",
   "metadata": {},
   "outputs": [],
   "source": [
    "def findPeople(d):\n",
    "    names={}\n",
    "    directors=[]\n",
    "    writers=[]\n",
    "    casts=[]\n",
    "\n",
    "    for i in range(count):\n",
    "        x=re.findall(f\"(?<=dr{i}\\\"> ).*?(?= </a>)\",d)\n",
    "        if len(x)>0:\n",
    "            directors.append(x)\n",
    "    for i in range(count):\n",
    "        x=re.findall(f\"(?<=wr{i}\\\"> ).*?(?= </a>)\",d)\n",
    "        if len(x)>0:\n",
    "            writers.append(x)\n",
    "    for i in range(count):\n",
    "        x=re.findall(f\"(?<=cr{i}\\\"> ).*?(?= </a>)\",d)\n",
    "        if len(x)>0:\n",
    "            casts.append(x)\n",
    "\n",
    "    names[\"directors\"]=directors\n",
    "    names[\"writers\"]=writers\n",
    "    names[\"casts\"]=casts\n",
    "    list_of_names.append(names)\n"
   ]
  },
  {
   "cell_type": "code",
   "execution_count": null,
   "id": "be61a55e",
   "metadata": {},
   "outputs": [],
   "source": [
    "def getTitle(d):\n",
    "    titles.append(re.findall(f\"(?<=url\\\">).*?(?=</a>)\",d))"
   ]
  },
  {
   "cell_type": "code",
   "execution_count": null,
   "id": "0f70e61a",
   "metadata": {},
   "outputs": [],
   "source": [
    "c=[]\n",
    "driver=webdriver.Firefox()\n",
    "for i in range(count):\n",
    "    driver.get(\"https://www.imdb.com/\"+ahref[i]+\"/fullcredits/\")\n",
    "    credits=driver.find_element(By.ID,\"wrapper\")\n",
    "    c.append(credits.get_attribute('innerHTML'))\n",
    "\n",
    "driver.close()\n",
    "    \n",
    "for i in range(count):\n",
    "    d=re.sub('\\s+',' ',c[i])\n",
    "    findPeople(d)\n",
    "    getTitle(d)"
   ]
  },
  {
   "cell_type": "code",
   "execution_count": null,
   "id": "bd8dcd8e",
   "metadata": {},
   "outputs": [],
   "source": [
    "movies={\"titles\":titles,\"names\":list_of_names,\"images\":img}"
   ]
  },
  {
   "cell_type": "code",
   "execution_count": null,
   "id": "dccf9812",
   "metadata": {},
   "outputs": [],
   "source": [
    "movies"
   ]
  },
  {
   "cell_type": "markdown",
   "id": "9a8de83b",
   "metadata": {},
   "source": [
    "Overview"
   ]
  },
  {
   "cell_type": "code",
   "execution_count": null,
   "id": "56f9d878",
   "metadata": {},
   "outputs": [],
   "source": [
    "a,b,c=pd.DataFrame(movies[\"titles\"]),pd.DataFrame(movies[\"names\"]),pd.DataFrame(movies[\"images\"])"
   ]
  },
  {
   "cell_type": "code",
   "execution_count": null,
   "id": "4c522bc5",
   "metadata": {},
   "outputs": [],
   "source": [
    "a=a.drop_duplicates()\n",
    "a"
   ]
  },
  {
   "cell_type": "code",
   "execution_count": null,
   "id": "48fbb61b",
   "metadata": {},
   "outputs": [],
   "source": [
    "b"
   ]
  },
  {
   "cell_type": "code",
   "execution_count": null,
   "id": "2a422aad",
   "metadata": {},
   "outputs": [],
   "source": [
    "c"
   ]
  },
  {
   "cell_type": "markdown",
   "id": "496a0f9a",
   "metadata": {},
   "source": [
    "Data Cleaning"
   ]
  },
  {
   "cell_type": "code",
   "execution_count": null,
   "id": "f96fc238",
   "metadata": {},
   "outputs": [],
   "source": [
    "temp=movies[\"names\"]\n",
    "directors=[]\n",
    "writers=[]\n",
    "casts=[]\n",
    "\n",
    "def outFromNestedList(n):\n",
    "    t=[]\n",
    "    for i in n:\n",
    "        t.append(\",\".join(i))\n",
    "    s=\",\".join(t)\n",
    "    return s\n",
    "\n",
    "for i in range(count):\n",
    "    director_name=outFromNestedList(temp[i][\"directors\"])\n",
    "    writer_name=outFromNestedList(temp[i][\"writers\"])\n",
    "    cast_name=outFromNestedList(temp[i][\"casts\"])\n",
    "    directors.append(director_name)\n",
    "    writers.append(writer_name)\n",
    "    casts.append(cast_name)\n",
    "    \n",
    "\n",
    "names=pd.DataFrame([directors,casts,writers])\n",
    "names=names.transpose()\n",
    "names"
   ]
  },
  {
   "cell_type": "code",
   "execution_count": null,
   "id": "a18ecc2b",
   "metadata": {},
   "outputs": [],
   "source": [
    "names=names.drop_duplicates()\n"
   ]
  },
  {
   "cell_type": "code",
   "execution_count": null,
   "id": "7a5b5e8b",
   "metadata": {
    "scrolled": true
   },
   "outputs": [],
   "source": [
    "names=names.rename(columns={0:\"directors\",1:\"casts\",2:\"writers\"})\n",
    "names"
   ]
  },
  {
   "cell_type": "code",
   "execution_count": null,
   "id": "50f20430",
   "metadata": {},
   "outputs": [],
   "source": [
    "title=a\n",
    "image=img[0:len(title)]\n",
    "image=pd.DataFrame(image)"
   ]
  },
  {
   "cell_type": "code",
   "execution_count": null,
   "id": "a8cc609b",
   "metadata": {},
   "outputs": [],
   "source": [
    "title=pd.DataFrame(movies[\"titles\"])"
   ]
  },
  {
   "cell_type": "code",
   "execution_count": null,
   "id": "37b7c8a2",
   "metadata": {},
   "outputs": [],
   "source": [
    "title=title.drop_duplicates()\n",
    "name=names.drop_duplicates()\n",
    "image=image.drop_duplicates()"
   ]
  },
  {
   "cell_type": "code",
   "execution_count": null,
   "id": "fadf0ecb",
   "metadata": {},
   "outputs": [],
   "source": [
    "title=title.reset_index()\n",
    "name=name.reset_index()\n",
    "image=image.reset_index()"
   ]
  },
  {
   "cell_type": "code",
   "execution_count": null,
   "id": "de49d88f",
   "metadata": {},
   "outputs": [],
   "source": [
    "title=title.drop(columns=\"index\")\n",
    "name=name.drop(columns=\"index\")\n",
    "image=image.drop(columns=\"index\")"
   ]
  },
  {
   "cell_type": "code",
   "execution_count": null,
   "id": "385886b1",
   "metadata": {},
   "outputs": [],
   "source": [
    "title[\"director\"]=name[\"directors\"]\n",
    "title[\"cast\"]=name[\"casts\"]\n",
    "title[\"writer\"]=name[\"writers\"]\n",
    "title=title.rename(columns={0:\"Movie Name\"})"
   ]
  },
  {
   "cell_type": "code",
   "execution_count": null,
   "id": "8d7f75b3",
   "metadata": {},
   "outputs": [],
   "source": [
    "title"
   ]
  }
 ],
 "metadata": {
  "kernelspec": {
   "display_name": "Python 3 (ipykernel)",
   "language": "python",
   "name": "python3"
  },
  "language_info": {
   "codemirror_mode": {
    "name": "ipython",
    "version": 3
   },
   "file_extension": ".py",
   "mimetype": "text/x-python",
   "name": "python",
   "nbconvert_exporter": "python",
   "pygments_lexer": "ipython3",
   "version": "3.9.7"
  }
 },
 "nbformat": 4,
 "nbformat_minor": 5
}
